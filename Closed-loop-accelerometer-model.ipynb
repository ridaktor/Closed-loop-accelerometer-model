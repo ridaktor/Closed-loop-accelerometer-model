{
 "cells": [
  {
   "cell_type": "markdown",
   "id": "49bec834",
   "metadata": {},
   "source": [
    "# Модель маятниковго акселерометра с обратной связью"
   ]
  },
  {
   "cell_type": "markdown",
   "id": "2c208af0",
   "metadata": {},
   "source": [
    "## Вывод уравнений движения чувствительного элемента маятникового акселерометра с тремя степенями свободы\n",
    "Рассматривается чувствительный элемент (ЧЭ) маятникового компенсационного акселерометра, который представляет собой массу, закреплённую на упругом подвесе. Гибким элементом служит пара консольных балок.\n",
    "\n",
    "Предполагается, что маятник является абсолютно твердым телом с заданными массовыми характеристиками. Центр масс (т. $С$) находится в плоскости симметрии пластины и может быть смещен в плоскости $YZ$ на величины $l_y$ и $l_z$. При действии сил $F$ (компенсационная сила), $mu$ и $mg$ ($m$ - масса пластины), обусловленных измеряемым ускорением $u$ и ускорением силы тяжести $g$, перемещение пластины определяется линеной $x_r$ и угловыми $ϑ, γ$ координатами.\n",
    "\n",
    "Уравнения движения выводятся с помощью уравнений Лагранжа 2-го рода:\n",
    "\n",
    "$$ \\frac{d}{dt} \\left(\\frac{∂T}{∂\\dot{q_j}}\\right) - \\frac{∂T}{∂q_j} = Q_j, \\hspace{5mm}(1)\\hspace{5mm} (j=1,2,3)$$\n",
    "\n",
    "где: $T$ - кинетическая энергия ЧЭ; $Q_j$ - обобщенные силы по соответствующим координатам; $q_j,\\dot{q_j}$ - обобщенные координаты и скорости\n",
    "$$ (q_1 = x_r, \\dot{q_1} = \\dot{x_r}; q_2 = ϑ, \\dot{q_2} = \\dot{ϑ}; q_3 = γ, \\dot{q_3} = \\dot{γ}). $$"
   ]
  },
  {
   "cell_type": "markdown",
   "id": "fcfd2944",
   "metadata": {},
   "source": [
    "## Перечень используемых констант:\n",
    "$l_b$ - эффективная длина упругого подвеса (длина балки);\n",
    "\n",
    "$l_{cm}$ - расстояние от конца балки до центра масс;\n",
    "\n",
    "$l_{y}, l_{z}$ - смещение центра масс вдоль осей $Y, Z$;\n",
    "\n",
    "$l_{Fy}, l_{Fz}$ - смещение центра приложения компенсационной силы вдоль осей $Y, Z$;\n",
    "\n",
    "$l_{yс}$ - расстояние от конца балки до геометрического центра емкостного датчика;\n",
    "\n",
    "$l_{zс}$ - смещение геометрического центра емкостного датчика вдоль оси $Z$;\n",
    "\n",
    "$m$ - масса ЧЭ;\n",
    "\n",
    "$J_y, J_z$ - главные центральные моменты инерции ЧЭ вокруг осей $Y, Z$;\n",
    "\n",
    "$g, u$ - гравитационное и измеряемое ускорения;\n",
    "\n",
    "$F$ - компенсационная сила обратной связи;\n",
    "\n",
    "$\\begin{bmatrix} k_{11} \\ k_{12} \\ k_{13} \\\\ k_{21} \\ k_{22} \\ k_{23} \\\\ k_{31} \\ k_{32} \\ k_{33} \\end{bmatrix}$ - матрица коэффициентов жесткости упругого подвеса;\n",
    "\n",
    "$\\begin{bmatrix} d_{11} \\ d_{12} \\ d_{13} \\\\ d_{21} \\ d_{22} \\ d_{23} \\\\ d_{31} \\ d_{32} \\ d_{33} \\end{bmatrix}$ - матрица коэффициентов демпфирования.\n"
   ]
  },
  {
   "cell_type": "markdown",
   "id": "ccbf8b52",
   "metadata": {},
   "source": [
    "<img src=\"pic12.png\">"
   ]
  },
  {
   "cell_type": "markdown",
   "id": "601f2220",
   "metadata": {},
   "source": [
    "<center>Рис. 1. К выводу уравнений движения</center>"
   ]
  },
  {
   "cell_type": "markdown",
   "id": "fd2ae7c3",
   "metadata": {},
   "source": [
    "Импорт необходимых библиотек и объявление переменных"
   ]
  },
  {
   "cell_type": "code",
   "execution_count": 1,
   "id": "80d3679e",
   "metadata": {},
   "outputs": [],
   "source": [
    "from sympy import *\n",
    "import sympy.physics.mechanics as mech\n",
    "import numpy\n",
    "import matplotlib.pyplot as plt\n",
    "from scipy.integrate import solve_ivp, odeint\n",
    "from datetime import datetime\n",
    "import time\n",
    "import control\n",
    "import scipy.signal as signal\n",
    "mech.init_vprinting()\n",
    "\n",
    "lb, lcm, ly, lz, lFy, lFz, lyc, lzc = symbols('l_b l_cm l_y l_z l_F_y l_F_z l_yc l_zc') \n",
    "m, jy, jz, g, u, F, t, Qx, Qt, Qg = symbols('m J_y J_z g u F t Q_{x_r} Q_ϑ Q_γ')\n",
    "k11, k12, k13, k21, k22, k23, k31, k32, k33 = symbols('k_11 k_12 k_13 k_21 k_22 k_23 k_31 k_32 k_33')\n",
    "d11, d12, d13, d21, d22, d23, d31, d32, d33 = symbols('d_11 d_12 d_13 d_21 d_22 d_23 d_31 d_32 d_33')\n",
    "xr, theta, gamma = symbols('x_r ϑ γ', cls=Function)\n",
    "\n",
    "dxr = diff(xr(t), t)\n",
    "dtheta = diff(theta(t), t)\n",
    "dgamma = diff(gamma(t), t)"
   ]
  },
  {
   "cell_type": "markdown",
   "id": "4f0cb0f9",
   "metadata": {},
   "source": [
    "Выражения для координат $x, y$ и $z$ центра масс ЧЭ"
   ]
  },
  {
   "cell_type": "code",
   "execution_count": 2,
   "id": "545bbf61",
   "metadata": {},
   "outputs": [],
   "source": [
    "x = xr(t) + (lcm+ly)*theta(t) + lz*gamma(t)\n",
    "y = - lb - (lcm+ly)\n",
    "z = lz"
   ]
  },
  {
   "cell_type": "markdown",
   "id": "633ef2cc",
   "metadata": {},
   "source": [
    "Выражения для линейных скоростей $\\dot{x}, \\dot{y}$ и $\\dot{z}$ центра масс ЧЭ"
   ]
  },
  {
   "cell_type": "code",
   "execution_count": 3,
   "id": "a0750dea",
   "metadata": {},
   "outputs": [],
   "source": [
    "# Mass center linear velocities\n",
    "dx = diff(x, t)\n",
    "dy = diff(y, t)\n",
    "dz = diff(z, t)"
   ]
  },
  {
   "cell_type": "markdown",
   "id": "d4be1767",
   "metadata": {},
   "source": [
    "Кинетическая энергия ЧЭ"
   ]
  },
  {
   "cell_type": "code",
   "execution_count": 4,
   "id": "f1d89f49",
   "metadata": {},
   "outputs": [
    {
     "name": "stderr",
     "output_type": "stream",
     "text": [
      "C:\\ProgramData\\Anaconda3\\lib\\site-packages\\IPython\\lib\\latextools.py:126: MatplotlibDeprecationWarning: \n",
      "The to_png function was deprecated in Matplotlib 3.4 and will be removed two minor releases later. Use mathtext.math_to_image instead.\n",
      "  mt.to_png(f, s, fontsize=12, dpi=dpi, color=color)\n",
      "C:\\ProgramData\\Anaconda3\\lib\\site-packages\\IPython\\lib\\latextools.py:126: MatplotlibDeprecationWarning: \n",
      "The to_rgba function was deprecated in Matplotlib 3.4 and will be removed two minor releases later. Use mathtext.math_to_image instead.\n",
      "  mt.to_png(f, s, fontsize=12, dpi=dpi, color=color)\n",
      "C:\\ProgramData\\Anaconda3\\lib\\site-packages\\IPython\\lib\\latextools.py:126: MatplotlibDeprecationWarning: \n",
      "The to_mask function was deprecated in Matplotlib 3.4 and will be removed two minor releases later. Use mathtext.math_to_image instead.\n",
      "  mt.to_png(f, s, fontsize=12, dpi=dpi, color=color)\n",
      "C:\\ProgramData\\Anaconda3\\lib\\site-packages\\IPython\\lib\\latextools.py:126: MatplotlibDeprecationWarning: \n",
      "The MathtextBackendBitmap class was deprecated in Matplotlib 3.4 and will be removed two minor releases later. Use mathtext.math_to_image instead.\n",
      "  mt.to_png(f, s, fontsize=12, dpi=dpi, color=color)\n"
     ]
    },
    {
     "data": {
      "image/png": "[encoded data removed]",
      "text/latex": [
       "$\\displaystyle \\frac{J_{y} \\dot{γ}^{2}}{2} + \\frac{J_{z} \\dot{ϑ}^{2}}{2} + \\frac{m \\left(l_{z} \\dot{γ} + \\left(l_{cm} + l_{y}\\right) \\dot{ϑ} + \\dot{x}_{r}\\right)^{2}}{2}$"
      ],
      "text/plain": [
       "     2        2                                  2\n",
       "J_y⋅γ̇    J_z⋅ϑ̇    m⋅(l_z⋅γ̇ + (l_cm + l_y)⋅ϑ̇ + xᵣ̇) \n",
       "────── + ────── + ────────────────────────────────\n",
       "  2        2                     2                "
      ]
     },
     "execution_count": 4,
     "metadata": {},
     "output_type": "execute_result"
    }
   ],
   "source": [
    "T = (jy*dgamma**2 + jz*dtheta**2)/2 + m/2*(dx**2 + dy**2 + dz**2)\n",
    "simplify(T)"
   ]
  },
  {
   "cell_type": "markdown",
   "id": "3406b919",
   "metadata": {},
   "source": [
    "Производные от полученного выражения"
   ]
  },
  {
   "cell_type": "code",
   "execution_count": 5,
   "id": "93409a5b",
   "metadata": {
    "scrolled": true
   },
   "outputs": [],
   "source": [
    "dTdxr = diff(T, xr(t))\n",
    "dTddxr = diff(T, dxr)\n",
    "dtdTdtddxr = diff(dTddxr, t)\n",
    "\n",
    "dTdtheta = diff(T, theta(t))\n",
    "dTddtheta = diff(T, dtheta)\n",
    "dtdTdtddtheta = diff(dTddtheta, t)\n",
    "\n",
    "dTdgamma = diff(T, gamma(t))\n",
    "dTddgamma = diff(T, dgamma)\n",
    "dtdTdtddgamma = diff(dTddgamma, t)"
   ]
  },
  {
   "cell_type": "markdown",
   "id": "bc5a5266",
   "metadata": {},
   "source": [
    "## Определение обощенных сил"
   ]
  },
  {
   "cell_type": "markdown",
   "id": "b888d19a",
   "metadata": {},
   "source": [
    "Силы, обусловленные жесткостью упругого подвеса"
   ]
  },
  {
   "cell_type": "code",
   "execution_count": 6,
   "id": "ef2cba1d",
   "metadata": {},
   "outputs": [],
   "source": [
    "Fbx = k11*xr(t) + k12*theta(t) + k13*gamma(t)\n",
    "Mbz = k21*xr(t) + k22*theta(t) + k23*gamma(t)\n",
    "Mby = k31*xr(t) + k32*theta(t) + k33*gamma(t)"
   ]
  },
  {
   "cell_type": "markdown",
   "id": "3939febc",
   "metadata": {},
   "source": [
    "Диссипативные силы"
   ]
  },
  {
   "cell_type": "code",
   "execution_count": 7,
   "id": "64fba0a0",
   "metadata": {},
   "outputs": [],
   "source": [
    "Fdx = d11*dxr + d12*dtheta + d13*dgamma\n",
    "Mdz = d21*dxr + d22*dtheta + d23*dgamma\n",
    "Mdy = d31*dxr + d32*dtheta + d33*dgamma"
   ]
  },
  {
   "cell_type": "markdown",
   "id": "1cd3c81e",
   "metadata": {},
   "source": [
    "Силы, обусловленные действием гравитационного $g$ и измеряемого $u$ ускорений"
   ]
  },
  {
   "cell_type": "code",
   "execution_count": 8,
   "id": "b3be7107",
   "metadata": {},
   "outputs": [],
   "source": [
    "Fux = m*u\n",
    "Muz = (lcm+ly)*(m*(u-g*theta(t)))\n",
    "Muy = lz*(m*u) "
   ]
  },
  {
   "cell_type": "markdown",
   "id": "f35ea4c5",
   "metadata": {},
   "source": [
    "Компенсирующие силы"
   ]
  },
  {
   "cell_type": "code",
   "execution_count": 9,
   "id": "b2da83a0",
   "metadata": {},
   "outputs": [],
   "source": [
    "Fx = F\n",
    "MFz = Fx * (lcm+lFy)\n",
    "MFy = Fx * lFz"
   ]
  },
  {
   "cell_type": "markdown",
   "id": "572d5840",
   "metadata": {},
   "source": [
    "Обобщенные силы"
   ]
  },
  {
   "cell_type": "code",
   "execution_count": 10,
   "id": "6a43e010",
   "metadata": {},
   "outputs": [],
   "source": [
    "Qx = Fbx + Fdx - Fux + Fx\n",
    "Qt = Mbz + Mdz - Muz + MFz\n",
    "Qg = Mby + Mdy - Muy + MFy"
   ]
  },
  {
   "cell_type": "markdown",
   "id": "02a0f680",
   "metadata": {},
   "source": [
    "## Уравнения движения ЧЭ"
   ]
  },
  {
   "cell_type": "markdown",
   "id": "b26e0297",
   "metadata": {},
   "source": [
    "Подставляя частные производные от выражения кинетической энергии $T$ используя $(1)$, а также учитывая соотношения для обобщенных сил, уравнения движения принимают вид"
   ]
  },
  {
   "cell_type": "code",
   "execution_count": 11,
   "id": "733c495f",
   "metadata": {},
   "outputs": [],
   "source": [
    "eq_xr = simplify(dtdTdtddxr - dTdxr + Qx)\n",
    "eq_theta = simplify(dtdTdtddtheta - dTdtheta + Qt)\n",
    "eq_gamma = simplify(dtdTdtddgamma - dTdgamma + Qg)"
   ]
  },
  {
   "cell_type": "markdown",
   "id": "f7a3e7e2",
   "metadata": {},
   "source": [
    "## Физические характеристики и константы"
   ]
  },
  {
   "cell_type": "code",
   "execution_count": 75,
   "id": "1c248370",
   "metadata": {},
   "outputs": [],
   "source": [
    "constants = {g : 1*9.8066,\n",
    "    \n",
    "             # Dimensional characteristics\n",
    "             lb : 2.3e-3,\n",
    "             lcm : 5.82483317703009E-03,\n",
    "             lz : 2e-4,\n",
    "             ly: 0,\n",
    "             \n",
    "             lyc: 7.04143173e-3,\n",
    "             lzc: 0,\n",
    "             \n",
    "             lFy: -0.02483317703009E-03,\n",
    "             lFz: 0,\n",
    "    \n",
    "             # Mass characteristics\n",
    "             m : 0.39861935e-3,\n",
    "             jy : 5.13296360570496e-9,\n",
    "             jz : 3.59519057721415e-9,\n",
    "    \n",
    "             # Stiffness coefficients\n",
    "             k11 : 186.234359,  # from cluster model: 283.389426,\n",
    "             k12 : -0.214169487,  # -0.283389404,\n",
    "             k13 : -0,\n",
    "             k21 : -0.214169487,  # -0.283389404,\n",
    "             k22 : 3.279618832E-04,  # 3.774241051E-04,\n",
    "             k23 : 0,\n",
    "             k31 : -0,\n",
    "             k32 : 0,\n",
    "             k33 : 3.347891918E-03,  #5.035413242E-03,\n",
    "             \n",
    "             # Damping coefficients\n",
    "             d11 : 1.9,\n",
    "             d12 : 0,\n",
    "             d13 : 0,\n",
    "             d21 : 0,\n",
    "             d22 : 6e-5,\n",
    "             d23 : 0,\n",
    "             d31 : 0,\n",
    "             d32 : 0,\n",
    "             d33 : 5e-5,\n",
    "            }"
   ]
  },
  {
   "cell_type": "markdown",
   "id": "8db098e7",
   "metadata": {},
   "source": [
    "## Решение стационарных уравнений ЧЭ"
   ]
  },
  {
   "cell_type": "code",
   "execution_count": 80,
   "id": "7fd851f2",
   "metadata": {},
   "outputs": [
    {
     "name": "stdout",
     "output_type": "stream",
     "text": [
      "Перемещение геометрического центра подвижной части датчика угла:      -0.0000395 м\n",
      "при F=0.004 Н и u=9.82 м/с^2\n"
     ]
    }
   ],
   "source": [
    "subs_dict = {Derivative(xr(t), (t, 2)): 0,\n",
    "             Derivative(theta(t), (t, 2)): 0,\n",
    "             Derivative(gamma(t), (t, 2)): 0,\n",
    "             Derivative(xr(t), t): 0,\n",
    "             Derivative(theta(t), t): 0,\n",
    "             Derivative(gamma(t), t): 0,\n",
    "             F: 0.004,\n",
    "             g : 1*9.8066,\n",
    "             u: 9.82\n",
    "            }\n",
    "\n",
    "eq_xr_steady = eq_xr.subs(subs_dict)\n",
    "eq_theta_steady = eq_theta.subs(subs_dict)\n",
    "eq_gamma_steady = eq_gamma.subs(subs_dict)\n",
    "\n",
    "steady_state_sol = solve([eq_xr_steady.subs(constants),\n",
    "                          eq_theta_steady.subs(constants),\n",
    "                          eq_gamma_steady.subs(constants)],\n",
    "                         [xr(t), theta(t), gamma(t)])\n",
    "\n",
    "cap_disp_steady = steady_state_sol[xr(t)] \\\n",
    "+ constants[lyc]*steady_state_sol[theta(t)] \\\n",
    "+ constants[lzc]*steady_state_sol[gamma(t)]\n",
    "print(f'Перемещение геометрического центра подвижной части датчика угла:\\\n",
    "      {round(cap_disp_steady,7)} м\\nпри F={subs_dict[F]} Н и u={subs_dict[u]} м/с^2')"
   ]
  },
  {
   "cell_type": "markdown",
   "id": "3ecf360d",
   "metadata": {},
   "source": [
    "Выражение $\\ddot{x_r}, \\ddot{ϑ}, \\ddot{γ} $ для подготовки уравнений к представлению в нормальной форме Коши"
   ]
  },
  {
   "cell_type": "code",
   "execution_count": null,
   "id": "9247f187",
   "metadata": {},
   "outputs": [],
   "source": [
    "sols = solve([eq_xr.subs(constants), eq_theta.subs(constants), eq_gamma.subs(constants)], \n",
    "             [Derivative(xr(t), (t, 2)), Derivative(theta(t), (t, 2)), Derivative(gamma(t), (t, 2))])\n",
    "ddxr = sols[Derivative(xr(t), (t, 2))]\n",
    "ddtheta = sols[Derivative(theta(t), (t, 2))]\n",
    "ddgamma = sols[Derivative(gamma(t), (t, 2))]"
   ]
  },
  {
   "cell_type": "markdown",
   "id": "1459a8bb",
   "metadata": {},
   "source": [
    "# Численное интегрирование уравненией движения"
   ]
  },
  {
   "cell_type": "code",
   "execution_count": null,
   "id": "90dd3ec8",
   "metadata": {},
   "outputs": [],
   "source": [
    "def dydt(time, y):\n",
    "    Xr, ddXr, Theta, ddTheta, Gamma, ddGamma = y\n",
    "    \n",
    "    subs_dict = {xr(t): Xr,\n",
    "                 theta(t): Theta,\n",
    "                 gamma(t): Gamma,\n",
    "                 Derivative(xr(t), t): ddXr,\n",
    "                 Derivative(theta(t), t): ddTheta,\n",
    "                 Derivative(gamma(t), t): ddGamma,\n",
    "                 F: 0.0063907,  # Compensation force\n",
    "                 u: -9.8  # External acceleration\n",
    "                }\n",
    "    \n",
    "    treated_ddXr = ddxr.subs(subs_dict)\n",
    "    treated_ddTheta = ddtheta.subs(subs_dict)\n",
    "    treated_ddGamma = ddgamma.subs(subs_dict)\n",
    "\n",
    "    return [ddXr,\n",
    "           treated_ddXr,\n",
    "           ddTheta,\n",
    "           treated_ddTheta,\n",
    "           ddGamma,\n",
    "           treated_ddGamma]\n",
    "\n",
    "# Initial conditions\n",
    "Xr_0 = 0\n",
    "ddXr_0 = 0\n",
    "Theta_0 = 0\n",
    "ddTheta_0 = 0\n",
    "Gamma_0 = 0\n",
    "ddGamma_0 = 0\n",
    "\n",
    "y_0 = (Xr_0, ddXr_0, Theta_0, ddTheta_0, Gamma_0, ddGamma_0)"
   ]
  },
  {
   "cell_type": "code",
   "execution_count": null,
   "id": "e5db7ae6",
   "metadata": {},
   "outputs": [],
   "source": [
    "start_time = datetime.now()\n",
    "solution = solve_ivp(dydt, t_span=(0, 0.01), y0=y_0, method='LSODA', rtol=1e-9, atol=1e-9)\n",
    "print('solution time:', datetime.now() - start_time)"
   ]
  },
  {
   "cell_type": "code",
   "execution_count": null,
   "id": "6c735789",
   "metadata": {},
   "outputs": [],
   "source": [
    "# Current results\n",
    "xr_sol = solution.y[0]\n",
    "theta_sol = solution.y[2]\n",
    "gamma_sol = solution.y[4]\n",
    "cap_disp = xr_sol + constants[lyc]*theta_sol + constants[lzc]*gamma_sol"
   ]
  },
  {
   "cell_type": "code",
   "execution_count": null,
   "id": "d583331d",
   "metadata": {},
   "outputs": [],
   "source": [
    "plt.plot(solution.t, cap_disp, 'k', label='LSODA', linewidth=3)\n",
    "plt.title('Displacement capacitor center')\n",
    "plt.ylabel('Displacement, m')\n",
    "plt.xlabel('Time, s')\n",
    "plt.grid()\n",
    "plt.show()"
   ]
  },
  {
   "cell_type": "markdown",
   "id": "88484eba",
   "metadata": {},
   "source": [
    "# Линеаризация уравнений движения\n",
    "## Пространство состояний (State-space representation)"
   ]
  },
  {
   "cell_type": "markdown",
   "id": "e253bf01",
   "metadata": {},
   "source": [
    "В общем виде модель пространства состояний определяется как:\n",
    "$$ \\dot{x}=Ax+Bu $$\n",
    "$$ y=Cx+Du $$\n",
    "где $A$ - матрица системы (состояний); $B$ - матрица управления; $С$ - матрица выхода; $D$ - матрица прямой связи; $x$ - вектор состояния; $y$ - вектор выхода; $u$ - вектор управления. "
   ]
  },
  {
   "cell_type": "markdown",
   "id": "e9982154",
   "metadata": {},
   "source": [
    "## Генерирование модели пространства состояний механической части"
   ]
  },
  {
   "cell_type": "markdown",
   "id": "acc55149",
   "metadata": {},
   "source": [
    "Формирование матриц $A, B, C$ и $D$"
   ]
  },
  {
   "cell_type": "code",
   "execution_count": null,
   "id": "facd3a21",
   "metadata": {},
   "outputs": [],
   "source": [
    "equations = [ddxr, ddtheta, ddgamma]\n",
    "arguments = [dxr, xr(t), dtheta, theta(t), dgamma, gamma(t)]\n",
    "\n",
    "# Create A matrix\n",
    "binary = numpy.diagflat([1,0,1,0,1,0])\n",
    "A = []\n",
    "count = 0\n",
    "for equation in equations:\n",
    "    row = []\n",
    "    for argument in arguments:\n",
    "        coef = Poly(equation, argument).coeffs()\n",
    "        try:\n",
    "            row.append(float(coef[0]))\n",
    "        except TypeError as e:\n",
    "            row.append(0)\n",
    "    A.append(row)\n",
    "    A.append(list(binary[0+count,:]))\n",
    "    count+=2\n",
    "\n",
    "# Create B matrix\n",
    "B = numpy.eye(6,1, dtype=int)\n",
    "column = [[],[]]\n",
    "arguments = [F]\n",
    "for equation in equations:\n",
    "    count = 0\n",
    "    for argument in arguments:\n",
    "        \n",
    "        coef = Poly(equation, argument).coeffs()\n",
    "        try:\n",
    "            column[count].append([float(coef[0])])\n",
    "            column[count].append([0])\n",
    "            count += 1\n",
    "        except TypeError as e:\n",
    "            column[count].append([0])\n",
    "            column[count].append([0])\n",
    "            count += 1\n",
    "B = numpy.append(B, column[0], axis=1)\n",
    "# Create C and D matrix\n",
    "C = [[0, 1, 0, constants[lyc], 0, constants[lzc]]]  # xr + lyc*ϑ + lzc*γ\n",
    "D = [[0, 0]]"
   ]
  },
  {
   "cell_type": "markdown",
   "id": "0f2e19be",
   "metadata": {},
   "source": [
    "Модель механической части акселерометра. \n",
    "\n",
    "Имеет два входа: внешнее ускорение $u$, компенсирующая сила $F$ и один выход - линейное перемещение геометрического центра обкладок датчика угла."
   ]
  },
  {
   "cell_type": "code",
   "execution_count": null,
   "id": "fbe71ccb",
   "metadata": {},
   "outputs": [],
   "source": [
    "mechanics_ss = control.ss(A, B, C, D)\n",
    "mechanics_ss"
   ]
  },
  {
   "cell_type": "markdown",
   "id": "1df35bce",
   "metadata": {},
   "source": [
    "Ступенчатый отклик модели акселерометра (по первому входу) без обратной связи"
   ]
  },
  {
   "cell_type": "code",
   "execution_count": null,
   "id": "3fc80c3b",
   "metadata": {},
   "outputs": [],
   "source": [
    "t = numpy.arange(0, 10+1e-5, 1e-5)\n",
    "_, y = control.step_response(mechanics_ss[0,0], T=t)\n",
    "plt.plot(t, y)\n",
    "plt.title('Step response of open loop model')\n",
    "plt.ylabel('Displacement, m')\n",
    "plt.xlabel('Time, s')\n",
    "plt.grid()\n",
    "plt.show()"
   ]
  },
  {
   "cell_type": "markdown",
   "id": "eae41ef1",
   "metadata": {},
   "source": [
    "ЛАФЧХ (диаграмма Боде)"
   ]
  },
  {
   "cell_type": "code",
   "execution_count": null,
   "id": "ab4cb5e9",
   "metadata": {},
   "outputs": [],
   "source": [
    "freq_range = numpy.arange(0, 2000*6.28, 1)\n",
    "mag, phase, omega = control.bode(mechanics_ss[0,0], omega=freq_range, Hz=True, plot=True)"
   ]
  },
  {
   "cell_type": "markdown",
   "id": "3c378530",
   "metadata": {},
   "source": [
    "## ПИД-регулятор"
   ]
  },
  {
   "cell_type": "markdown",
   "id": "873e61e3",
   "metadata": {},
   "source": [
    "Для описания усилителя акселерометра используется ПИД-регулятор. Передаточная функция в параллельной форме записывается в виде:\n",
    "$$ H(s)=K_p+K_i\\frac{1}{s}+K_d\\frac{N}{1+N\\frac{1}{s}}$$\n",
    "где $K_p$, $K_i$ и $K_d$ - коэффициенты усиления пропорциональной, интегрирующей и дифференцирующей составляющих регулятора соответственно; $N$ - коэффициент фильтрации."
   ]
  },
  {
   "cell_type": "markdown",
   "id": "5aa21165",
   "metadata": {},
   "source": [
    "Константы ПИД-регулятора"
   ]
  },
  {
   "cell_type": "code",
   "execution_count": null,
   "id": "844d1e0d",
   "metadata": {},
   "outputs": [],
   "source": [
    "Kp = 1.3064e+04\n",
    "Ki = 4.1179e+06\n",
    "Kd = 1.5735\n",
    "N = 3.7424e+04"
   ]
  },
  {
   "cell_type": "markdown",
   "id": "c0be3267",
   "metadata": {},
   "source": [
    "Передаточная функция ПИД-регулятора"
   ]
  },
  {
   "cell_type": "code",
   "execution_count": null,
   "id": "186eacda",
   "metadata": {},
   "outputs": [],
   "source": [
    "PID_tf = control.tf([Kp+N*Kd, Kp*N+Ki, Ki*N], [1, N, 0])\n",
    "PID_tf"
   ]
  },
  {
   "cell_type": "markdown",
   "id": "eeaf51c6",
   "metadata": {},
   "source": [
    "## Временная задеркжа"
   ]
  },
  {
   "cell_type": "markdown",
   "id": "cfed7e66",
   "metadata": {},
   "source": [
    "Для моделирвоания работы усилителя кроме ПИД-регулятора вводится модель временной задержки в виде передаточной функции:\n",
    "$$H(s)=\\frac{y(s)}{u(s)}=e^{-τs}$$\n",
    "где $τ$ - временная задержка.\n",
    "\n",
    "Для нахождения числителя и знаменателя передаточной функции используется аппроксимация Паде́:\n",
    "$$e^{-τs}≈\\frac{1-k_1s+k_2s^2+\\ldots±k_ns^n}{1+k_1s+k_2s^2+\\ldots+k_ns^n}$$\n",
    "где $n$ - порядок аппроксимации; $k_1,k_2,\\ldots$ - константы."
   ]
  },
  {
   "cell_type": "code",
   "execution_count": null,
   "id": "bf599e9a",
   "metadata": {},
   "outputs": [],
   "source": [
    "tau = 3.2462e-05\n",
    "n = 5\n",
    "[num, den] = control.pade(tau, n)\n",
    "delay_tf = control.tf(num, den)"
   ]
  },
  {
   "cell_type": "markdown",
   "id": "6a3f0365",
   "metadata": {},
   "source": [
    "## Генерирование модели акселерометра с обратной связью:"
   ]
  },
  {
   "cell_type": "markdown",
   "id": "da339179",
   "metadata": {},
   "source": [
    "Соединение блоков модели (механическая часть и обратная связь)"
   ]
  },
  {
   "cell_type": "code",
   "execution_count": null,
   "id": "00e5b69b",
   "metadata": {},
   "outputs": [],
   "source": [
    "Q = [[3, 1], [2, 3], [4, 2]]  # Interconnection matrix [input, output]\n",
    "full_sys_first_out = control.connect(control.append(mechanics_ss, PID_tf, delay_tf), Q, [1], [1])\n",
    "full_sys_third_out = control.connect(control.append(mechanics_ss, PID_tf, delay_tf), Q, [1], [3])"
   ]
  },
  {
   "cell_type": "markdown",
   "id": "c8ff7988",
   "metadata": {},
   "source": [
    "Полная модель акселерометра с обратной связью выглядит следующим образом:\n",
    "<img src=block-scheme.png>"
   ]
  },
  {
   "cell_type": "markdown",
   "id": "92fa8f9f",
   "metadata": {},
   "source": [
    "Ступенчатый отклик модели акселерометра с обратной связью"
   ]
  },
  {
   "cell_type": "code",
   "execution_count": null,
   "id": "2ecb02de",
   "metadata": {},
   "outputs": [],
   "source": [
    "start_time = datetime.now()\n",
    "t = numpy.arange(0, 0.02+1e-5, 1e-5)\n",
    "_, y = control.step_response(full_sys_first_out, T=t)\n",
    "plt.plot(t, y)\n",
    "plt.title('Step response of closed loop model')\n",
    "plt.ylabel('Displacement, m')\n",
    "plt.xlabel('Time, s')\n",
    "plt.grid()\n",
    "plt.show()\n",
    "print('solution time:', datetime.now() - start_time)"
   ]
  },
  {
   "cell_type": "markdown",
   "id": "b62fe7f7",
   "metadata": {},
   "source": [
    "ЛАФЧХ (диаграмма Боде)"
   ]
  },
  {
   "cell_type": "code",
   "execution_count": null,
   "id": "c66973e7",
   "metadata": {},
   "outputs": [],
   "source": [
    "freq_range = numpy.arange(20*6.28, 2000*6.28, 1)\n",
    "mag, phase, omega = control.bode(full_sys_third_out, omega=freq_range, Hz=True, plot=True)\n",
    "# plt.plot(freq_range/6.28, mag,  'g:', label='State-space', linewidth=3)\n",
    "# plt.title('xr')\n",
    "# plt.ylabel('Displacement, m')\n",
    "# plt.xlabel('Time, s')\n",
    "# plt.legend()\n",
    "# plt.grid()\n",
    "# plt.show()"
   ]
  },
  {
   "cell_type": "markdown",
   "id": "6b863a9f",
   "metadata": {},
   "source": [
    "Оценка устойчивости. Карта полюсов и нулей"
   ]
  },
  {
   "cell_type": "code",
   "execution_count": null,
   "id": "036f4e6f",
   "metadata": {},
   "outputs": [],
   "source": [
    "_ = control.pzmap(full_sys_third_out)"
   ]
  },
  {
   "cell_type": "markdown",
   "id": "6021a554",
   "metadata": {},
   "source": [
    "## Передаточная функция акселерометра собратной связью\n",
    "Передаточная функция $H(s)$ в общем виде может быть представлена в виде:\n",
    "$$H(s)=\\frac{y(s)}{u(s)}$$\n",
    "где $y$ - выходной сигнал; $u$ - входной сигнал системы; $s=σ+jω $ - оператор передаточной функции в преобразовании Лапласа."
   ]
  },
  {
   "cell_type": "markdown",
   "id": "e7b1ca43",
   "metadata": {},
   "source": [
    "Передаточная функция акселерометра с обратной связью:"
   ]
  },
  {
   "cell_type": "code",
   "execution_count": null,
   "id": "91fd379a",
   "metadata": {},
   "outputs": [],
   "source": [
    "Hacc = control.ss2tf(full_sys_third_out)\n",
    "Hacc"
   ]
  },
  {
   "cell_type": "markdown",
   "id": "710af7d9",
   "metadata": {},
   "source": [
    "# Верифицирование механчисекой части без обратной связи"
   ]
  },
  {
   "cell_type": "markdown",
   "id": "ba41f11b",
   "metadata": {},
   "source": [
    "Чтение результатов из файлов"
   ]
  },
  {
   "cell_type": "code",
   "execution_count": null,
   "id": "2dd7882f",
   "metadata": {},
   "outputs": [],
   "source": [
    "# Read saved ODE results\n",
    "ODE_time_0g = numpy.loadtxt('ODE_time_0g.txt')\n",
    "ODE_xr_0g = numpy.loadtxt('ODE_xr_0g.txt')\n",
    "ODE_theta_0g = numpy.loadtxt('ODE_theta_0g.txt')\n",
    "ODE_gamma_0g = numpy.loadtxt('ODE_gamma_0g.txt')"
   ]
  },
  {
   "cell_type": "code",
   "execution_count": null,
   "id": "fc930458",
   "metadata": {},
   "outputs": [],
   "source": [
    "# Read saved Ansys results\n",
    "ansys_time = numpy.linspace(5e-5, 0.1, 2000)\n",
    "ansys_xr_0g = numpy.loadtxt('ansys_xr_0g.txt')\n",
    "ansys_theta_0g = numpy.loadtxt('ansys_theta_0g.txt')\n",
    "ansys_gamma_0g = numpy.loadtxt('ansys_gamma_0g.txt')"
   ]
  },
  {
   "cell_type": "code",
   "execution_count": null,
   "id": "b6fabb70",
   "metadata": {},
   "outputs": [],
   "source": [
    "# Read saved State-space results\n",
    "ss_time = numpy.arange(0, 0.1+1e-3, 1e-3)\n",
    "ss_xr_0g = numpy.loadtxt('ss_xr_0g.txt')\n",
    "ss_theta_0g = numpy.loadtxt('ss_theta_0g.txt')\n",
    "ss_gamma_0g = numpy.loadtxt('ss_gamma_0g.txt')"
   ]
  },
  {
   "cell_type": "markdown",
   "id": "52ce6e40",
   "metadata": {},
   "source": [
    "Относительная погрешность"
   ]
  },
  {
   "cell_type": "code",
   "execution_count": null,
   "id": "5bcf67e2",
   "metadata": {},
   "outputs": [],
   "source": [
    "print('Ansys vs ODE solution')\n",
    "print('Δxr =', round((min(ODE_xr_0g)-min(ansys_xr_0g))/min(ODE_xr_0g)*100, 2), '%')\n",
    "print('Δϑ =', round((min(ODE_theta_0g)-min(ansys_theta_0g))/min(ODE_theta_0g)*100, 2), '%')\n",
    "print('Δγ =', round((min(ODE_gamma_0g)-min(ansys_gamma_0g))/min(ODE_gamma_0g)*100, 2), '%')\n",
    "print('')\n",
    "print('ODE solution vs State-space model')\n",
    "print('Δxr =', round((min(ODE_xr_0g)-min(ss_xr_0g))/min(ss_xr_0g)*100, 2), '%')\n",
    "print('Δϑ =', round((min(ODE_theta_0g)-min(ss_theta_0g))/min(ss_theta_0g)*100, 2), '%')\n",
    "print('Δγ =', round((min(ODE_gamma_0g)-min(ss_gamma_0g))/min(ss_gamma_0g)*100, 2), '%')"
   ]
  },
  {
   "cell_type": "markdown",
   "id": "502ef317",
   "metadata": {},
   "source": [
    "Перемещение конца балки"
   ]
  },
  {
   "cell_type": "code",
   "execution_count": null,
   "id": "6fd702b3",
   "metadata": {},
   "outputs": [],
   "source": [
    "plt.plot(ODE_time_0g, ODE_xr_0g, 'k', label='ODE', linewidth=3)\n",
    "plt.plot(ansys_time, ansys_xr_0g, '--r', label='Ansys', linewidth=3)\n",
    "plt.plot(ss_time, ss_xr_0g, 'g:', label='State-space', linewidth=3)\n",
    "plt.title('xr')\n",
    "plt.ylabel('Displacement, m')\n",
    "plt.xlabel('Time, s')\n",
    "plt.legend()\n",
    "plt.grid()\n",
    "plt.show()"
   ]
  },
  {
   "cell_type": "markdown",
   "id": "5466d116",
   "metadata": {},
   "source": [
    "Угол поворота вокруг оси Z"
   ]
  },
  {
   "cell_type": "code",
   "execution_count": null,
   "id": "55df3780",
   "metadata": {},
   "outputs": [],
   "source": [
    "plt.plot(ODE_time_0g, ODE_theta_0g, 'k', label='ODE', linewidth=3)\n",
    "plt.plot(ansys_time, ansys_theta_0g, '--r',label='Ansys', linewidth=3)\n",
    "plt.plot(ss_time, ss_theta_0g, 'g:', label='State-space', linewidth=3)\n",
    "plt.title('ϑ')\n",
    "plt.ylabel('Angular displacement, rad')\n",
    "plt.xlabel('Time, s')\n",
    "plt.legend()\n",
    "plt.grid()\n",
    "plt.show()"
   ]
  },
  {
   "cell_type": "markdown",
   "id": "44f32739",
   "metadata": {},
   "source": [
    "Угол поворота вокруг оси Y"
   ]
  },
  {
   "cell_type": "code",
   "execution_count": null,
   "id": "4bc39e65",
   "metadata": {},
   "outputs": [],
   "source": [
    "plt.plot(ODE_time_0g, ODE_gamma_0g, 'k', label='ODE', linewidth=3)\n",
    "plt.plot(ansys_time, ansys_gamma_0g, '--r',label='Ansys', linewidth=3)\n",
    "plt.plot(ss_time, ss_gamma_0g, 'g:', label='State-space', linewidth=3)\n",
    "plt.title('γ')\n",
    "plt.ylabel('Angular displacement, rad')\n",
    "plt.xlabel('Time, s')\n",
    "plt.legend()\n",
    "plt.grid()\n",
    "plt.show()"
   ]
  },
  {
   "cell_type": "markdown",
   "id": "076a8569",
   "metadata": {},
   "source": [
    "# Верифицирование модели с обратной связью"
   ]
  },
  {
   "cell_type": "markdown",
   "id": "6b4cae33",
   "metadata": {},
   "source": [
    "<img src=PIDvsFull.jpg>"
   ]
  }
 ],
 "metadata": {
  "kernelspec": {
   "display_name": "Python 3 (ipykernel)",
   "language": "python",
   "name": "python3"
  },
  "language_info": {
   "codemirror_mode": {
    "name": "ipython",
    "version": 3
   },
   "file_extension": ".py",
   "mimetype": "text/x-python",
   "name": "python",
   "nbconvert_exporter": "python",
   "pygments_lexer": "ipython3",
   "version": "3.9.7"
  }
 },
 "nbformat": 4,
 "nbformat_minor": 5
}
